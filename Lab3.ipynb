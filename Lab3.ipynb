{
  "cells": [
    {
      "cell_type": "markdown",
      "id": "488b8266",
      "metadata": {
        "id": "488b8266"
      },
      "source": [
        "# Lab Assignment: Building a Neural Network from Scratch\n",
        "\n",
        "### Objective\n",
        "This lab guides you through the implementation of a simple feedforward neural network from scratch.\n",
        "By completing this lab, you will:\n",
        "- Initialize a neural network with weights and biases.\n",
        "- Compute the weighted sum at each node.\n",
        "- Apply activation functions for node outputs.\n",
        "- Perform forward propagation to compute predictions.\n",
        "- Implement backpropagation to compute gradients.\n",
        "- Update weights using gradients to minimize the loss."
      ]
    },
    {
      "cell_type": "markdown",
      "id": "2668a14e",
      "metadata": {
        "id": "2668a14e"
      },
      "source": [
        "## Step 1: Initialize the Network"
      ]
    },
    {
      "cell_type": "code",
      "execution_count": 18,
      "id": "396df339",
      "metadata": {
        "colab": {
          "base_uri": "https://localhost:8080/"
        },
        "id": "396df339",
        "outputId": "a7d58f54-add7-43c8-abeb-cda8f2069d51"
      },
      "outputs": [
        {
          "output_type": "stream",
          "name": "stdout",
          "text": [
            "Israel + Initialized Network: [{'weights': array([[ 0.49671415, -0.1382643 ,  0.64768854,  1.52302986],\n",
            "       [-0.23415337, -0.23413696,  1.57921282,  0.76743473],\n",
            "       [-0.46947439,  0.54256004, -0.46341769, -0.46572975]]), 'biases': array([[ 0.24196227, -1.91328024, -1.72491783, -0.56228753]])}, {'weights': array([[-1.01283112,  0.31424733, -0.90802408],\n",
            "       [-1.4123037 ,  1.46564877, -0.2257763 ],\n",
            "       [ 0.0675282 , -1.42474819, -0.54438272],\n",
            "       [ 0.11092259, -1.15099358,  0.37569802]]), 'biases': array([[-0.60063869, -0.29169375, -0.60170661]])}, {'weights': array([[ 1.85227818],\n",
            "       [-0.01349722],\n",
            "       [-1.05771093]]), 'biases': array([[0.82254491]])}]\n"
          ]
        }
      ],
      "source": [
        "import numpy as np\n",
        "np.random.seed(42) # For reproducibility\n",
        "def initialize_network(input_size, hidden_layers, output_size):\n",
        "    # Your code should contain the weights and biases\n",
        "    # provide your code\n",
        "\n",
        "    #empty network\n",
        "    network = []\n",
        "\n",
        "   #sizes\n",
        "    layer_sizes = [input_size] + hidden_layers + [output_size]\n",
        "\n",
        "    # weights and biases\n",
        "    for i in range(len(layer_sizes) - 1):\n",
        "        layer = {\n",
        "            'weights': np.random.randn(layer_sizes[i], layer_sizes[i + 1]),\n",
        "            'biases': np.random.randn(1, layer_sizes[i + 1])\n",
        "        }\n",
        "        network.append(layer)\n",
        "\n",
        "    return network\n",
        "\n",
        "# Initialize a network with 3 inputs, 2 hidden layers (4 and 3 nodes), and 1 output node\n",
        "network = initialize_network(3, [4, 3], 1)\n",
        "print(\"Israel + Initialized Network:\", network)"
      ]
    },
    {
      "cell_type": "markdown",
      "id": "3ecfdd84",
      "metadata": {
        "id": "3ecfdd84"
      },
      "source": [
        "## Step 2: Compute Weighted Sum"
      ]
    },
    {
      "cell_type": "code",
      "execution_count": 19,
      "id": "66c4ad58",
      "metadata": {
        "colab": {
          "base_uri": "https://localhost:8080/"
        },
        "id": "66c4ad58",
        "outputId": "03a0afc5-8029-48ef-bdef-1cbc7d97c0f3"
      },
      "outputs": [
        {
          "output_type": "stream",
          "name": "stdout",
          "text": [
            "Israel + Weighted Sum: [[ 0.39654123 -1.97498378 -1.13157277  0.30614137]]\n"
          ]
        }
      ],
      "source": [
        "def compute_weighted_sum(inputs, weights, biases):\n",
        "    # Please numpy dot to calcuate the compute weighted with linear\n",
        "    # provide your code\n",
        "    return np.dot(inputs, weights) + biases\n",
        "\n",
        "\n",
        "# Test weighted sum\n",
        "inputs = np.array([[0.5, 0.2, 0.1]])\n",
        "layer = network[0]  # First layer\n",
        "Z = compute_weighted_sum(inputs, layer['weights'], layer['biases'])\n",
        "print(\"Israel + Weighted Sum:\", Z)"
      ]
    },
    {
      "cell_type": "markdown",
      "id": "7d82553f",
      "metadata": {
        "id": "7d82553f"
      },
      "source": [
        "## Step 3: Compute Node Activation"
      ]
    },
    {
      "cell_type": "code",
      "execution_count": 20,
      "id": "36b00bf0",
      "metadata": {
        "colab": {
          "base_uri": "https://localhost:8080/"
        },
        "id": "36b00bf0",
        "outputId": "58087216-75db-4deb-abc3-88c28bd8751b"
      },
      "outputs": [
        {
          "output_type": "stream",
          "name": "stdout",
          "text": [
            "Israel + Activation: [[0.59785637 0.12185459 0.24387097 0.57594313]]\n"
          ]
        }
      ],
      "source": [
        "def sigmoid(Z):\n",
        "#     provide your code\n",
        "    return 1 / (1 + np.exp(-Z))\n",
        "\n",
        "def sigmoid_derivative(A):\n",
        "    # provide your code\n",
        "\n",
        "  return A * (1 - A)\n",
        "# Compute activation for the weighted sum\n",
        "A = sigmoid(Z)\n",
        "print(\"Israel + Activation:\", A)"
      ]
    },
    {
      "cell_type": "markdown",
      "id": "769f9c55",
      "metadata": {
        "id": "769f9c55"
      },
      "source": [
        "## Step 4: Perform Forward Propagation"
      ]
    },
    {
      "cell_type": "code",
      "execution_count": 21,
      "id": "5d2e9d28",
      "metadata": {
        "colab": {
          "base_uri": "https://localhost:8080/"
        },
        "id": "5d2e9d28",
        "outputId": "d6f691d4-8955-40e5-e141-65eb31078f4b"
      },
      "outputs": [
        {
          "output_type": "stream",
          "name": "stdout",
          "text": [
            "[array([[0.5, 0.2, 0.1]]), array([[0.59785637, 0.12185459, 0.24387097, 0.57594313]]), array([[0.2145172 , 0.28179311, 0.25190745]]), array([[0.72104313]])]\n",
            "Israel + Final Output: [[0.72104313]]\n"
          ]
        }
      ],
      "source": [
        "def forward_propagation(inputs, network):\n",
        "    # provide your code\n",
        "    activations = [inputs]\n",
        "\n",
        "    # transformation\n",
        "    for layer in network:\n",
        "\n",
        "      #calling activation\n",
        "        Z = compute_weighted_sum(activations[-1], layer['weights'], layer['biases'])\n",
        "        A = sigmoid(Z)\n",
        "\n",
        "        #appending\n",
        "        activations.append(A)\n",
        "    return activations\n",
        "\n",
        "# Perform forward propagation\n",
        "activations = forward_propagation(inputs, network)\n",
        "print(activations)\n",
        "print(\"Israel + Final Output:\", activations[-1])"
      ]
    },
    {
      "cell_type": "markdown",
      "id": "e342f58d",
      "metadata": {
        "id": "e342f58d"
      },
      "source": [
        "## Step 5: Backpropagation"
      ]
    },
    {
      "cell_type": "code",
      "execution_count": 22,
      "id": "1ec4d75a",
      "metadata": {
        "colab": {
          "base_uri": "https://localhost:8080/"
        },
        "id": "1ec4d75a",
        "outputId": "641c0e84-1075-4a98-a6d4-b0e098154790"
      },
      "outputs": [
        {
          "output_type": "stream",
          "name": "stdout",
          "text": [
            "Israel + Gradients: [{'dW': array([[ 9.17179036e-04,  1.20018392e-03, -6.90509106e-04,\n",
            "         2.54357391e-04],\n",
            "       [ 3.66871614e-04,  4.80073569e-04, -2.76203642e-04,\n",
            "         1.01742957e-04],\n",
            "       [ 1.83435807e-04,  2.40036785e-04, -1.38101821e-04,\n",
            "         5.08714783e-05]]), 'db': array([[ 0.00183436,  0.00240037, -0.00138102,  0.00050871]])}, {'dW': array([[-1.04697727e-02,  9.16340026e-05,  6.68644966e-03],\n",
            "       [-2.13394032e-03,  1.86767659e-05,  1.36282658e-03],\n",
            "       [-4.27071404e-03,  3.73783304e-05,  2.72746270e-03],\n",
            "       [-1.00860240e-02,  8.82753404e-05,  6.44137114e-03]]), 'db': array([[-0.01751219,  0.00015327,  0.01118404]])}, {'dW': array([[-0.01203642],\n",
            "       [-0.01581123],\n",
            "       [-0.01413437]]), 'db': array([[-0.05610937]])}]\n"
          ]
        }
      ],
      "source": [
        "def backpropagation(network, activations, y_true):\n",
        "    num_layers = len(network)  # Number of layers in the network\n",
        "    gradients = []  # To store gradients for each layer\n",
        "\n",
        "    # error at the output layer\n",
        "    error = activations[-1] - y_true\n",
        "\n",
        "    # error through the layers\n",
        "    for i in range(num_layers - 1, -1, -1):\n",
        "        layer = network[i]\n",
        "\n",
        "        # delta for the current layer\n",
        "        delta = error * sigmoid_derivative(activations[i + 1])\n",
        "\n",
        "        # weights and biases\n",
        "        dW = np.dot(activations[i].T, delta)\n",
        "        db = np.sum(delta, axis=0, keepdims=True)\n",
        "\n",
        "        gradients.insert(0, {'dW': dW, 'db': db})\n",
        "\n",
        "        # error to the previous layer\n",
        "        error = np.dot(delta, layer['weights'].T)\n",
        "\n",
        "    return gradients\n",
        "\n",
        "\n",
        "# Compute gradients\n",
        "y_true = np.array([[1]])  # Example target output\n",
        "gradients = backpropagation(network, activations, y_true)\n",
        "print(\"Israel + Gradients:\", gradients)"
      ]
    },
    {
      "cell_type": "markdown",
      "id": "d6b81797-9f82-493a-a509-b1360f04071c",
      "metadata": {
        "id": "d6b81797-9f82-493a-a509-b1360f04071c"
      },
      "source": [
        "## Step 6: Update Weights"
      ]
    },
    {
      "cell_type": "code",
      "execution_count": 23,
      "id": "33990e4e-9a02-4728-9ff5-fc41e7ef42be",
      "metadata": {
        "colab": {
          "base_uri": "https://localhost:8080/"
        },
        "id": "33990e4e-9a02-4728-9ff5-fc41e7ef42be",
        "outputId": "989df0c6-578a-4e7f-9332-a92ec39a284c"
      },
      "outputs": [
        {
          "output_type": "stream",
          "name": "stdout",
          "text": [
            "Israel + Updated Network: [{'weights': array([[ 0.49662244, -0.13838432,  0.64775759,  1.52300442],\n",
            "       [-0.23419006, -0.23418496,  1.57924044,  0.76742455],\n",
            "       [-0.46949273,  0.54253604, -0.46340388, -0.46573484]]), 'biases': array([[ 0.24177884, -1.91352028, -1.72477973, -0.5623384 ]])}, {'weights': array([[-1.01178414,  0.31423817, -0.90869272],\n",
            "       [-1.41209031,  1.4656469 , -0.22591258],\n",
            "       [ 0.06795528, -1.42475192, -0.54465547],\n",
            "       [ 0.11193119, -1.1510024 ,  0.37505388]]), 'biases': array([[-0.59888747, -0.29170908, -0.60282502]])}, {'weights': array([[ 1.85348183],\n",
            "       [-0.0119161 ],\n",
            "       [-1.05629749]]), 'biases': array([[0.82815585]])}]\n"
          ]
        }
      ],
      "source": [
        "def update_weights(network, gradients, learning_rate):\n",
        "    # Hints: weights -= learning_rate * 'dW'\n",
        "    # Hints: biases -= learning_rate * 'db'\n",
        "    # Provide your code\n",
        "    for i in range(len(network)):\n",
        "        network[i]['weights'] -= learning_rate * gradients[i]['dW']\n",
        "        network[i]['biases'] -= learning_rate * gradients[i]['db']\n",
        "    return network\n",
        "\n",
        "\n",
        "# Update weights with a learning rate of 0.1\n",
        "update_weights(network, gradients, learning_rate=0.1)\n",
        "print(\"Israel + Updated Network:\", network)"
      ]
    },
    {
      "cell_type": "markdown",
      "id": "ed55add1",
      "metadata": {
        "id": "ed55add1"
      },
      "source": [
        "## Step 7: Visualizing Loss Changes"
      ]
    },
    {
      "cell_type": "code",
      "execution_count": 24,
      "id": "9fe355dc",
      "metadata": {
        "id": "9fe355dc"
      },
      "outputs": [],
      "source": [
        "# Use MSE to compute the loss\n",
        "def compute_loss(y_true, y_pred):\n",
        "    # provide your code\n",
        "    mse = np.mean((y_true - y_pred) ** 2)\n",
        "    return mse"
      ]
    },
    {
      "cell_type": "code",
      "execution_count": 26,
      "id": "f7270921",
      "metadata": {
        "colab": {
          "base_uri": "https://localhost:8080/",
          "height": 472
        },
        "id": "f7270921",
        "outputId": "363e1622-6814-4a17-951a-d942af3fb898"
      },
      "outputs": [
        {
          "output_type": "display_data",
          "data": {
            "text/plain": [
              "<Figure size 640x480 with 1 Axes>"
            ],
            "image/png": "[encoded data removed]"
          },
          "metadata": {}
        }
      ],
      "source": [
        "import matplotlib.pyplot as plt\n",
        "\n",
        "# Training Loop\n",
        "losses = []\n",
        "inputs = np.array([[0.5, 0.2, 0.1]])\n",
        "y_true = np.array([[1]])\n",
        "learning_rate = 0.1\n",
        "\n",
        "for iteration in range(100):\n",
        "    # provide your code\n",
        "    # Hints: forward_propagation function with inputs network\n",
        "    #        compute_loss for y_true and activations[-1]\n",
        "    #        add loss to losses\n",
        "    forward_propagation(inputs, network)\n",
        "\n",
        "    activations = forward_propagation(inputs, network)\n",
        "\n",
        "    #getting the loss\n",
        "    loss= compute_loss(y_true, activations[-1])\n",
        "    losses.append(loss)\n",
        "\n",
        "    # gradients = backpropagation function\n",
        "    gradients = backpropagation(network, activations, y_true)\n",
        "\n",
        "    # update_weights\n",
        "    update_weights(network, gradients, learning_rate)\n",
        "\n",
        "\n",
        "# Plot Loss and rerun all cells\n",
        "plt.plot(losses)\n",
        "plt.title(\"Israel + Loss Before and After Weight Updates\")\n",
        "plt.xlabel(\"Iterations\")\n",
        "plt.ylabel(\"Loss\")\n",
        "plt.show()\n"
      ]
    },
    {
      "cell_type": "markdown",
      "id": "737f4b49-9f2b-4e5c-8f75-cb102fc858e0",
      "metadata": {
        "id": "737f4b49-9f2b-4e5c-8f75-cb102fc858e0"
      },
      "source": [
        "### Step 8: Visualizing Gradients Changes (Graduate students)"
      ]
    },
    {
      "cell_type": "markdown",
      "id": "42a89b54-adeb-4a5d-89b2-1883ce9634a7",
      "metadata": {
        "id": "42a89b54-adeb-4a5d-89b2-1883ce9634a7"
      },
      "source": [
        "Please pick a weight and plot the gradient change\n",
        "\n",
        "You need to point which weight you pick and label it on your graph."
      ]
    },
    {
      "cell_type": "code",
      "execution_count": null,
      "id": "e59f30cb-09da-48e9-9551-d9055db6e26b",
      "metadata": {
        "id": "e59f30cb-09da-48e9-9551-d9055db6e26b"
      },
      "outputs": [],
      "source": [
        "# Your code"
      ]
    },
    {
      "cell_type": "code",
      "execution_count": null,
      "id": "57f0d830-3ed2-4d96-9a72-3cca41792c07",
      "metadata": {
        "id": "57f0d830-3ed2-4d96-9a72-3cca41792c07"
      },
      "outputs": [],
      "source": []
    }
  ],
  "metadata": {
    "kernelspec": {
      "display_name": "Python 3 (ipykernel)",
      "language": "python",
      "name": "python3"
    },
    "language_info": {
      "codemirror_mode": {
        "name": "ipython",
        "version": 3
      },
      "file_extension": ".py",
      "mimetype": "text/x-python",
      "name": "python",
      "nbconvert_exporter": "python",
      "pygments_lexer": "ipython3",
      "version": "3.11.8"
    },
    "colab": {
      "provenance": []
    }
  },
  "nbformat": 4,
  "nbformat_minor": 5
}